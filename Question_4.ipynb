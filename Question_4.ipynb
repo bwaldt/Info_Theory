{
 "cells": [
  {
   "cell_type": "code",
   "execution_count": 84,
   "metadata": {},
   "outputs": [],
   "source": [
    "import matplotlib.pyplot as plt\n",
    "import numpy as np\n",
    "%matplotlib inline"
   ]
  },
  {
   "cell_type": "code",
   "execution_count": 85,
   "metadata": {},
   "outputs": [],
   "source": [
    "def entropy_calc(p_j):\n",
    "    entropy = 0\n",
    "    for p in p_j:\n",
    "        entropy -= p*np.log2(p)\n",
    "    return entropy\n",
    "\n",
    "def BlahutArimato(dist_mat, p_x, beta ,max_it = 100,eps = 1e-10) :\n",
    "    \"\"\"Compute the rate-distortion function of an i.i.d distribution\n",
    "    Inputs :\n",
    "        'dist_mat' -- (numpy matrix) representing the distoriton matrix between the input \n",
    "            alphabet and the reconstruction alphabet. dist_mat[i,j] = dist(x[i],x_hat[j])\n",
    "        'p_x' -- (1D numpy array) representing the probability mass function of the source\n",
    "        'beta' -- (scalar) the slope of the rate-distoriton function at the point where evaluation is \n",
    "                    required\n",
    "        'max_it' -- (int) maximal number of iterations\n",
    "        'eps' -- (float) accuracy required by the algorithm: the algorithm stops if there\n",
    "                is no change in distoriton value of more than 'eps' between consequtive iterations\n",
    "    Returns :\n",
    "        'Iu' -- rate (in bits)\n",
    "        'Du' -- distortion\n",
    "        \n",
    "    ORIGINAL CODE FROM: https://github.com/alonkipnis/BlahutArimoto/blob/master/BlahutArimoto.py\n",
    "    Only small edits were made for this exam\n",
    "    \"\"\"\n",
    "    import numpy as np\n",
    "\n",
    "    l,l_hat = dist_mat.shape\n",
    "    p_cond = np.tile(p_x, (l_hat,1)).T #start with iid conditional distribution\n",
    "\n",
    "    p_x = p_x / np.sum(p_x) #normalize\n",
    "    p_cond /= np.sum(p_cond,1,keepdims=True)\n",
    "\n",
    "    it = 0\n",
    "    Du_prev = 0\n",
    "    Du = 2*eps\n",
    "    while it < max_it and np.abs(Du-Du_prev)> eps :\n",
    "        it+=1\n",
    "        Du_prev = Du\n",
    "        p_hat = np.matmul(p_x,p_cond)\n",
    "\n",
    "        p_cond = np.exp(-beta * dist_mat) * p_hat\n",
    "        p_cond /= np.expand_dims(np.sum(p_cond,1),1)\n",
    "        \n",
    "        Iu = np.matmul(p_x,p_cond*np.log(p_cond / np.expand_dims(p_hat,0))).sum()\n",
    "        Du = np.matmul(p_x,(p_cond * dist_mat)).sum()\n",
    "    \n",
    "    return Iu/np.log(2), Du"
   ]
  },
  {
   "cell_type": "code",
   "execution_count": 86,
   "metadata": {},
   "outputs": [
    {
     "name": "stdout",
     "output_type": "stream",
     "text": [
      "Index j from -100 to 100\n",
      "Subset of P_j \n",
      "[0.042 0.083 0.167 0.333 0.167 0.083 0.042]\n",
      "Susbset Distortion Matrix \n",
      "[[  0.   1.   2. ... 198. 199. 200.]\n",
      " [  1.   0.   1. ... 197. 198. 199.]\n",
      " [  2.   1.   0. ... 196. 197. 198.]\n",
      " ...\n",
      " [198. 197. 196. ...   0.   1.   2.]\n",
      " [199. 198. 197. ...   1.   0.   1.]\n",
      " [200. 199. 198. ...   2.   1.   0.]]\n"
     ]
    }
   ],
   "source": [
    "j = range(-100,101)\n",
    "p_j = [(2**-abs(x))/float(3) for x in j]\n",
    "\n",
    "thetas = np.arange(0.0001,.5,.001)\n",
    "rho = np.zeros((len(j),len(j)))\n",
    "for i in range(len(j)):\n",
    "    for k in range(len(j)):\n",
    "        rho[i,k] = abs(i-k)\n",
    "\n",
    "print \"Index j from -100 to 100\"\n",
    "print \"Subset of P_j \\n\", np.round(p_j[97:104],3)\n",
    "print \"Susbset Distortion Matrix \\n\", rho"
   ]
  },
  {
   "cell_type": "code",
   "execution_count": 93,
   "metadata": {},
   "outputs": [
    {
     "data": {
      "image/png": "[encoded data removed]",
      "text/plain": [
       "<matplotlib.figure.Figure at 0x10aa11b90>"
      ]
     },
     "metadata": {},
     "output_type": "display_data"
    }
   ],
   "source": [
    "np.warnings.filterwarnings('ignore')\n",
    "rates = []\n",
    "distortion = []\n",
    "lambdas = np.arange(0.2,250,.1)\n",
    "for i in lambdas:\n",
    "    R,D = BlahutArimato(rho,p_j,i)\n",
    "    rates.append(R)\n",
    "    distortion.append(D)\n",
    "    \n",
    "\n",
    "plt.plot(distortion,rates,label='Blahut Algorithm',linewidth=6,alpha=0.35)\n",
    "\n",
    "R_D = []\n",
    "for D in distortion:\n",
    "    theta = (np.sqrt(D**2 + 1) - 1) / D    \n",
    "    R_D.append( entropy_calc(p_j) + D * np.log2(theta) + np.log2((1-theta)/(1+theta)) )\n",
    "\n",
    "plt.plot(distortion,R_D,label='Numerical Calculation')\n",
    "plt.legend()\n",
    "plt.show()"
   ]
  },
  {
   "cell_type": "markdown",
   "metadata": {},
   "source": [
    "As is shown, the Blahut algorithm and numerical calculations both give the same value for all values of D."
   ]
  },
  {
   "cell_type": "code",
   "execution_count": null,
   "metadata": {},
   "outputs": [],
   "source": []
  }
 ],
 "metadata": {
  "kernelspec": {
   "display_name": "Python 2",
   "language": "python",
   "name": "python2"
  },
  "language_info": {
   "codemirror_mode": {
    "name": "ipython",
    "version": 2
   },
   "file_extension": ".py",
   "mimetype": "text/x-python",
   "name": "python",
   "nbconvert_exporter": "python",
   "pygments_lexer": "ipython2",
   "version": "2.7.10"
  }
 },
 "nbformat": 4,
 "nbformat_minor": 2
}
