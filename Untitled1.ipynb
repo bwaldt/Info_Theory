{
 "cells": [
  {
   "cell_type": "code",
   "execution_count": 4,
   "metadata": {},
   "outputs": [],
   "source": [
    "\"\"\"\n",
    "In this example an implementation for the Blahut-Arimoto algorithm is shown.\n",
    "The algorithm calculates the channel capacity for a given channel and is\n",
    "implemented using ProbPy\n",
    "\"\"\"\n",
    " \n",
    "# Not needed if library is installed\n",
    "from os import sys, path\n",
    "\n",
    "# Import ProbPy modules\n",
    "from ProbPy import RandVar, Factor\n",
    "from ProbPy.inf_theory import *\n",
    " \n",
    "import math\n",
    "import random\n",
    " \n",
    " \n",
    "def ChannelCapacity(Input, Output, Prior, Channel, base=2, delta=0.01):\n",
    "    \"\"\"\n",
    "    Implementation of Blahut-Arimoto algorithm for Channel Capacity computation\n",
    " \n",
    "    :param Input:   Input variable of channel\n",
    "    :param Output:  Output variable of channel\n",
    "    :param Prior:   Prior distribution for computation\n",
    "    :param Channel: Factor that represents the probability transition matrix of\n",
    "                    the channel\n",
    "    :param base:    Base of logarithms and exponentials\n",
    "    :param delta:   Maximum error for algorithms halt\n",
    "    :returns:       Channel capacity as computed by the algorithm\n",
    "    \"\"\"\n",
    " \n",
    "    p = Prior\n",
    " \n",
    "    while True:\n",
    "        # Compute cj value\n",
    "        f = (p * Channel).marginal(Output)\n",
    "        l = (Channel / f).log(2)\n",
    "        cj = (Channel * l).marginal(Input).exp(2)\n",
    " \n",
    "        # Calculate limits\n",
    "        il = (p * cj).marginal([]).log(2)\n",
    "        iu = math.log(max(cj.values), 2)\n",
    " \n",
    "        # Check if the algorithm should stop\n",
    "        if iu-il.values[0] < delta:\n",
    "            break\n",
    " \n",
    "        # Prepare for next step\n",
    "        p = p * (cj / (p * cj).marginal(Input))\n",
    " \n",
    "    # Return the only value in lower limit's factor\n",
    "    return il.values[0]\n",
    " \n",
    " \n",
    "def ex1():\n",
    "    \"\"\"\n",
    "    Example of the Channel Capacity algorithm applied to a binary symmetric\n",
    "    channel. Such channels have an explicit way to have their channel capacity\n",
    "    computed. Which is:\n",
    " \n",
    "        C = 1 - H(p),\n",
    " \n",
    "    where p is the probability of error in the channel::\n",
    " \n",
    "           p\n",
    "        0 --- 0\n",
    "          \\ / 1-p\n",
    "           /\n",
    "          / \\ 1-p\n",
    "        1 --- 1\n",
    "           p\n",
    " \n",
    "    In this example the probability of error is 0.1\n",
    "    \"\"\"\n",
    " \n",
    "    p = 0.9\n",
    " \n",
    "    Input = RandVar(\"Input\", [\"T\", \"F\"])\n",
    "    Output = RandVar(\"Output\", [\"T\", \"F\"])\n",
    " \n",
    "    Prior = Factor(Input, [0.5, 0.5])\n",
    "    Channel = Factor([Input, Output], [p, 1-p, 1-p, p])\n",
    " \n",
    "    cc = ChannelCapacity(Input, Output, Prior, Channel)\n",
    "    explicit = 1 - entropy(Factor(Input, [p, 1-p]))\n",
    " \n",
    "    print(\"Channel Capacity of a binary symmetric channel\")\n",
    "    print(\"Blahut-Arimoto:\", cc)\n",
    "    print(\"Explicit:      \", explicit)"
   ]
  },
  {
   "cell_type": "code",
   "execution_count": 5,
   "metadata": {},
   "outputs": [
    {
     "ename": "FactorRandVarsEx",
     "evalue": "Bad Random Variables:[(Input, [T, F])]",
     "output_type": "error",
     "traceback": [
      "\u001b[0;31m---------------------------------------------------------------------------\u001b[0m",
      "\u001b[0;31mFactorRandVarsEx\u001b[0m                          Traceback (most recent call last)",
      "\u001b[0;32m<ipython-input-5-52f55eff40c7>\u001b[0m in \u001b[0;36m<module>\u001b[0;34m()\u001b[0m\n\u001b[0;32m----> 1\u001b[0;31m \u001b[0mex1\u001b[0m\u001b[0;34m(\u001b[0m\u001b[0;34m)\u001b[0m\u001b[0;34m\u001b[0m\u001b[0m\n\u001b[0m",
      "\u001b[0;32m<ipython-input-4-d7f459fc5b5f>\u001b[0m in \u001b[0;36mex1\u001b[0;34m()\u001b[0m\n\u001b[1;32m     79\u001b[0m     \u001b[0mOutput\u001b[0m \u001b[0;34m=\u001b[0m \u001b[0mRandVar\u001b[0m\u001b[0;34m(\u001b[0m\u001b[0;34m\"Output\"\u001b[0m\u001b[0;34m,\u001b[0m \u001b[0;34m[\u001b[0m\u001b[0;34m\"T\"\u001b[0m\u001b[0;34m,\u001b[0m \u001b[0;34m\"F\"\u001b[0m\u001b[0;34m]\u001b[0m\u001b[0;34m)\u001b[0m\u001b[0;34m\u001b[0m\u001b[0m\n\u001b[1;32m     80\u001b[0m \u001b[0;34m\u001b[0m\u001b[0m\n\u001b[0;32m---> 81\u001b[0;31m     \u001b[0mPrior\u001b[0m \u001b[0;34m=\u001b[0m \u001b[0mFactor\u001b[0m\u001b[0;34m(\u001b[0m\u001b[0mInput\u001b[0m\u001b[0;34m,\u001b[0m \u001b[0;34m[\u001b[0m\u001b[0;36m0.5\u001b[0m\u001b[0;34m,\u001b[0m \u001b[0;36m0.5\u001b[0m\u001b[0;34m]\u001b[0m\u001b[0;34m)\u001b[0m\u001b[0;34m\u001b[0m\u001b[0m\n\u001b[0m\u001b[1;32m     82\u001b[0m     \u001b[0mChannel\u001b[0m \u001b[0;34m=\u001b[0m \u001b[0mFactor\u001b[0m\u001b[0;34m(\u001b[0m\u001b[0;34m[\u001b[0m\u001b[0mInput\u001b[0m\u001b[0;34m,\u001b[0m \u001b[0mOutput\u001b[0m\u001b[0;34m]\u001b[0m\u001b[0;34m,\u001b[0m \u001b[0;34m[\u001b[0m\u001b[0mp\u001b[0m\u001b[0;34m,\u001b[0m \u001b[0;36m1\u001b[0m\u001b[0;34m-\u001b[0m\u001b[0mp\u001b[0m\u001b[0;34m,\u001b[0m \u001b[0;36m1\u001b[0m\u001b[0;34m-\u001b[0m\u001b[0mp\u001b[0m\u001b[0;34m,\u001b[0m \u001b[0mp\u001b[0m\u001b[0;34m]\u001b[0m\u001b[0;34m)\u001b[0m\u001b[0;34m\u001b[0m\u001b[0m\n\u001b[1;32m     83\u001b[0m \u001b[0;34m\u001b[0m\u001b[0m\n",
      "\u001b[0;32m/Library/Python/2.7/site-packages/ProbPy/factor.pyc\u001b[0m in \u001b[0;36m__init__\u001b[0;34m(self, rand_vars, values)\u001b[0m\n\u001b[1;32m     40\u001b[0m         \u001b[0;32mfor\u001b[0m \u001b[0mi\u001b[0m \u001b[0;32min\u001b[0m \u001b[0mrand_vars\u001b[0m\u001b[0;34m:\u001b[0m\u001b[0;34m\u001b[0m\u001b[0m\n\u001b[1;32m     41\u001b[0m             \u001b[0;32mif\u001b[0m \u001b[0mtype\u001b[0m\u001b[0;34m(\u001b[0m\u001b[0mi\u001b[0m\u001b[0;34m)\u001b[0m \u001b[0;34m!=\u001b[0m \u001b[0mRandVar\u001b[0m\u001b[0;34m:\u001b[0m\u001b[0;34m\u001b[0m\u001b[0m\n\u001b[0;32m---> 42\u001b[0;31m                 \u001b[0;32mraise\u001b[0m \u001b[0mFactorRandVarsEx\u001b[0m\u001b[0;34m(\u001b[0m\u001b[0mrand_vars\u001b[0m\u001b[0;34m)\u001b[0m\u001b[0;34m\u001b[0m\u001b[0m\n\u001b[0m\u001b[1;32m     43\u001b[0m \u001b[0;34m\u001b[0m\u001b[0m\n\u001b[1;32m     44\u001b[0m         \u001b[0;31m# Store variables\u001b[0m\u001b[0;34m\u001b[0m\u001b[0;34m\u001b[0m\u001b[0m\n",
      "\u001b[0;31mFactorRandVarsEx\u001b[0m: Bad Random Variables:[(Input, [T, F])]"
     ]
    }
   ],
   "source": [
    "ex1()"
   ]
  },
  {
   "cell_type": "code",
   "execution_count": 7,
   "metadata": {},
   "outputs": [
    {
     "ename": "TypeError",
     "evalue": "__init__() takes exactly 3 arguments (1 given)",
     "output_type": "error",
     "traceback": [
      "\u001b[0;31m---------------------------------------------------------------------------\u001b[0m",
      "\u001b[0;31mTypeError\u001b[0m                                 Traceback (most recent call last)",
      "\u001b[0;32m<ipython-input-7-f08a17bbb380>\u001b[0m in \u001b[0;36m<module>\u001b[0;34m()\u001b[0m\n\u001b[0;32m----> 1\u001b[0;31m \u001b[0mRandVar\u001b[0m\u001b[0;34m(\u001b[0m\u001b[0;34m)\u001b[0m\u001b[0;34m\u001b[0m\u001b[0m\n\u001b[0m",
      "\u001b[0;31mTypeError\u001b[0m: __init__() takes exactly 3 arguments (1 given)"
     ]
    }
   ],
   "source": [
    "RandVar()"
   ]
  },
  {
   "cell_type": "code",
   "execution_count": null,
   "metadata": {},
   "outputs": [],
   "source": []
  }
 ],
 "metadata": {
  "kernelspec": {
   "display_name": "Python 2",
   "language": "python",
   "name": "python2"
  },
  "language_info": {
   "codemirror_mode": {
    "name": "ipython",
    "version": 2
   },
   "file_extension": ".py",
   "mimetype": "text/x-python",
   "name": "python",
   "nbconvert_exporter": "python",
   "pygments_lexer": "ipython2",
   "version": "2.7.10"
  }
 },
 "nbformat": 4,
 "nbformat_minor": 2
}
